{
 "cells": [
  {
   "cell_type": "markdown",
   "metadata": {},
   "source": [
    "# Deep Neural Network for Binary Classification\n",
    "\n",
    "## N layer with N hidden units are designed with following options\n",
    "\n",
    "  **1 ** ) **Hyper Paremters Initialization**\n",
    "                 - zero Initialization\n",
    "                 - random Initialization\n",
    "                 - HE Initialization\n",
    "  **2 ** ) **Forward Propogation**\n",
    "                 - Out of L layers first L-1 layers use Relu activation function\n",
    "                 - Lth layer uses sigmoid activation function\n",
    "  **3 ** ) **Regulariztion**\n",
    "                 - Dropout\n",
    "                 - lambda with L2 regularization\n",
    "  **4 ** )  **Cost**\n",
    "                 - L2 Regularization\n",
    "  **5 ** ) **Optimization**\n",
    "                 - Gradient Descent Algorithm\n",
    "  **6 ** ) **validation**\n",
    "                  - Gradient checking if backpropogation work proper\n",
    "                 "
   ]
  },
  {
   "cell_type": "code",
   "execution_count": 1,
   "metadata": {},
   "outputs": [
    {
     "data": {
      "text/plain": [
       "(1234, 1)"
      ]
     },
     "execution_count": 1,
     "metadata": {},
     "output_type": "execute_result"
    }
   ],
   "source": [
    "import time\n",
    "import numpy as np\n",
    "import h5py\n",
    "import pandas as pd\n",
    "import matplotlib.pyplot as plt\n",
    "import scipy\n",
    "from PIL import Image\n",
    "from scipy import ndimage\n",
    "import matplotlib.pyplot as plt\n",
    "from sklearn.model_selection import train_test_split\n",
    "from sklearn.metrics import accuracy_score\n",
    "\n",
    "data = pd.read_table(\"C:/Users/gokul/Documents/Projects/Neural Networks/data_banknote_authentication.txt\", sep=',', header=None)\n",
    "Xpd = data[[0,1,2,3]]\n",
    "ypd = data[4]\n",
    "#X_train, X_test, y_train, y_test = train_test_split(Xpd, ypd, test_size=0.10, random_state=324)\n",
    "X_el = np.matrix(Xpd)\n",
    "Y_el = np.matrix(ypd)\n",
    "X, X_test, Y, y_test = train_test_split(X_el, Y_el.T, test_size=0.10, random_state=324)\n",
    "X = X.T\n",
    "Y.shape #(m,1)"
   ]
  },
  {
   "cell_type": "markdown",
   "metadata": {},
   "source": [
    "# Hyper Parameter (W, b) Initialization\n",
    "\n",
    "**HE Initiallization ** : This function is similar to the previous `initialize_parameters_random(...)`. The only difference is that instead of multiplying `np.random.randn(..,..)` by 10, you will multiply it by $\\sqrt{\\frac{2}{\\text{dimension of the previous layer}}}$, which is what He initialization recommends for layers with a ReLU activation. "
   ]
  },
  {
   "cell_type": "code",
   "execution_count": 2,
   "metadata": {
    "collapsed": true
   },
   "outputs": [],
   "source": [
    "def initialize_parameters_deep(layers_dims,initialization=\"he\"):\n",
    "    \"\"\"\n",
    "    Arguments:\n",
    "    layer_dims -- python array (list) containing the dimensions of each layer in our network\n",
    "    \n",
    "    Returns:\n",
    "    parameters -- python dictionary containing your parameters \"W1\", \"b1\", ..., \"WL\", \"bL\":\n",
    "                    Wl -- weight matrix of shape (layer_dims[l], layer_dims[l-1])\n",
    "                    bl -- bias vector of shape (layer_dims[l], 1)\n",
    "    \"\"\"\n",
    "    \n",
    "    np.random.seed(3)\n",
    "    parameters = {}\n",
    "    L = len(layers_dims)            # number of layers in the network\n",
    "    \n",
    "\n",
    "    for l in range(1, L):\n",
    "        \n",
    "        if initialization == \"zeros\":\n",
    "            parameters['W' + str(l)] = np.zeros((layers_dims[l], layers_dims[l-1]))\n",
    "            parameters['b' + str(l)] = np.zeros((layers_dims[l],1))\n",
    "        elif initialization == \"random\":\n",
    "            parameters['W' + str(l)] = np.random.randn(layers_dims[l],layers_dims[l-1]) * 0.01\n",
    "            parameters['b' + str(l)] = np.zeros((layers_dims[l],1))\n",
    "        elif initialization == \"he\":\n",
    "            parameters['W' + str(l)] = np.random.randn(layers_dims[l],layers_dims[l-1]) * np.sqrt(2/layers_dims[l-1])\n",
    "            parameters['b' + str(l)] = np.zeros((layers_dims[l],1))\n",
    "            #print(parameters['W' + str(l)].shape)\n",
    "            #print(parameters['b' + str(l)].shape)\n",
    "        \n",
    "        assert(parameters['W' + str(l)].shape == (layers_dims[l], layers_dims[l-1]))\n",
    "        assert(parameters['b' + str(l)].shape == (layers_dims[l], 1))\n",
    "\n",
    "        \n",
    "    return parameters"
   ]
  },
  {
   "cell_type": "markdown",
   "metadata": {
    "collapsed": true
   },
   "source": [
    "# Foward Propogation Algorithm starts here\n",
    "\n",
    "."
   ]
  },
  {
   "cell_type": "code",
   "execution_count": 3,
   "metadata": {
    "collapsed": true
   },
   "outputs": [],
   "source": [
    "def sigmoid(z):\n",
    "    \"\"\"\n",
    "    Compute the sigmoid of z\n",
    "\n",
    "    Arguments:\n",
    "    z -- A scalar or numpy array of any size.\n",
    "\n",
    "    Return:\n",
    "    s -- sigmoid(z)\n",
    "    \"\"\"\n",
    "    s = 1/(1+np.exp(-z))\n",
    "    return s,z\n",
    "\n",
    "def relu(z):\n",
    "    s = (abs(z) + z) / 2\n",
    "    return s,z"
   ]
  },
  {
   "cell_type": "code",
   "execution_count": 4,
   "metadata": {
    "collapsed": true
   },
   "outputs": [],
   "source": [
    "def linear_forward(A, W, b):\n",
    "    \"\"\"\n",
    "    Implement the linear part of a layer's forward propagation.\n",
    "\n",
    "    Arguments:\n",
    "    A -- activations from previous layer (or input data): (size of previous layer, number of examples)\n",
    "    W -- weights matrix: numpy array of shape (size of current layer, size of previous layer)\n",
    "    b -- bias vector, numpy array of shape (size of the current layer, 1)\n",
    "\n",
    "    Returns:\n",
    "    Z -- the input of the activation function, also called pre-activation parameter \n",
    "    cache -- a python dictionary containing \"A\", \"W\" and \"b\" ; stored for computing the backward pass efficiently\n",
    "    \"\"\"\n",
    "    \n",
    "    Z = np.dot(W,A) + b\n",
    "    assert(Z.shape == (W.shape[0], A.shape[1]))\n",
    "    cache = (A, W, b)\n",
    "    \n",
    "    return Z, cache"
   ]
  },
  {
   "cell_type": "code",
   "execution_count": 5,
   "metadata": {
    "collapsed": true
   },
   "outputs": [],
   "source": [
    "def linear_activation_forward(A_prev, W, b, activation):\n",
    "    \"\"\"\n",
    "    Implement the forward propagation for the LINEAR->ACTIVATION layer\n",
    "\n",
    "    Arguments:\n",
    "    A_prev -- activations from previous layer (or input data): (size of previous layer, number of examples)\n",
    "    W -- weights matrix: numpy array of shape (size of current layer, size of previous layer)\n",
    "    b -- bias vector, numpy array of shape (size of the current layer, 1)\n",
    "    activation -- the activation to be used in this layer, stored as a text string: \"sigmoid\" or \"relu\"\n",
    "\n",
    "    Returns:\n",
    "    A -- the output of the activation function, also called the post-activation value \n",
    "    cache -- a python dictionary containing \"linear_cache\" and \"activation_cache\";\n",
    "             stored for computing the backward pass efficiently\n",
    "    \"\"\"\n",
    "    \n",
    "    if activation == \"sigmoid\":\n",
    "        # Inputs: \"A_prev, W, b\". Outputs: \"A, activation_cache\".\n",
    "        Z, linear_cache = linear_forward(A_prev,W,b)\n",
    "        #Z = np.dot(W,A_prev) + b\n",
    "        A, activation_cache = sigmoid(Z)\n",
    "        #print(\"sigmoid\")\n",
    "    \n",
    "    elif activation == \"relu\":\n",
    "        # Inputs: \"A_prev, W, b\". Outputs: \"A, activation_cache\".\n",
    "        Z, linear_cache = linear_forward(A_prev,W,b)\n",
    "        #Z = np.dot(W,A_prev) + b\n",
    "        A, activation_cache = relu(Z)\n",
    "        #print(\"relu\")\n",
    "    \n",
    "    assert (A.shape == (W.shape[0], A_prev.shape[1]))\n",
    "    cache = (linear_cache, activation_cache)\n",
    "\n",
    "    return A, cache"
   ]
  },
  {
   "cell_type": "code",
   "execution_count": 6,
   "metadata": {
    "collapsed": true
   },
   "outputs": [],
   "source": [
    "def L_model_forward(X, parameters,keep_prob=1):\n",
    "    \"\"\"\n",
    "    Implement forward propagation for the [LINEAR->RELU]*(L-1)->LINEAR->SIGMOID computation\n",
    "    \n",
    "    Arguments:\n",
    "    X -- data, numpy array of shape (input size, number of examples)\n",
    "    parameters -- output of initialize_parameters_deep()\n",
    "    \n",
    "    Returns:\n",
    "    AL -- last post-activation value\n",
    "    caches -- list of caches containing:\n",
    "                every cache of linear_activation_forward() (there are L-1 of them, indexed from 0 to L-1)\n",
    "    \"\"\"\n",
    "\n",
    "    caches = []\n",
    "    A = X\n",
    "    L = len(parameters) // 2                  # number of layers in the neural network\n",
    "    # Implement [LINEAR -> RELU]*(L-1). Add \"cache\" to the \"caches\" list.\n",
    "    for l in range(1, L):\n",
    "        A_prev = A \n",
    "        #print(A_prev.shape)\n",
    "        A, cache = linear_activation_forward(A_prev, parameters['W' + str(l)] ,parameters['b' + str(l)], \"relu\")\n",
    "        D = np.random.rand(A.shape[0],A.shape[1])\n",
    "        D = D < keep_prob\n",
    "        #print(A.shape[0])\n",
    "        A = np.multiply(A,D )\n",
    "        A = A/keep_prob\n",
    "        cache = cache + (D,)\n",
    "        caches.append(cache)\n",
    "    \n",
    "    # Implement LINEAR -> SIGMOID. Add \"cache\" to the \"caches\" list.\n",
    "    AL, cache = linear_activation_forward(A,parameters['W' + str(L)] ,parameters['b' + str(L)],\"sigmoid\" )\n",
    "    caches.append(cache)\n",
    "    assert(AL.shape == (1,X.shape[1]))\n",
    "            \n",
    "    return AL, caches"
   ]
  },
  {
   "cell_type": "code",
   "execution_count": 7,
   "metadata": {},
   "outputs": [
    {
     "name": "stdout",
     "output_type": "stream",
     "text": [
      "(5, 4)\n"
     ]
    },
    {
     "data": {
      "text/plain": [
       "(1, 1234)"
      ]
     },
     "execution_count": 7,
     "metadata": {},
     "output_type": "execute_result"
    }
   ],
   "source": [
    "parameters = initialize_parameters_deep([4,5,2,1], \"he\")\n",
    "print(parameters[\"W1\"].shape)\n",
    "AL, caches = L_model_forward(X, parameters,1)\n",
    "AL.shape\n",
    "#caches[0]"
   ]
  },
  {
   "cell_type": "markdown",
   "metadata": {},
   "source": [
    "# Cost Computation \n",
    "## L2 Regularization\n",
    "\n",
    "The standard way to avoid overfitting is called **L2 regularization**. It consists of appropriately modifying your cost function, from:\n",
    "$$J = -\\frac{1}{m} \\sum\\limits_{i = 1}^{m} \\large{(}\\small  y^{(i)}\\log\\left(a^{[L](i)}\\right) + (1-y^{(i)})\\log\\left(1- a^{[L](i)}\\right) \\large{)} \\tag{1}$$\n",
    "To:\n",
    "$$J_{regularized} = \\small \\underbrace{-\\frac{1}{m} \\sum\\limits_{i = 1}^{m} \\large{(}\\small y^{(i)}\\log\\left(a^{[L](i)}\\right) + (1-y^{(i)})\\log\\left(1- a^{[L](i)}\\right) \\large{)} }_\\text{cross-entropy cost} + \\underbrace{\\frac{1}{m} \\frac{\\lambda}{2} \\sum\\limits_l\\sum\\limits_k\\sum\\limits_j W_{k,j}^{[l]2} }_\\text{L2 regularization cost} \\tag{2}$$\n"
   ]
  },
  {
   "cell_type": "code",
   "execution_count": 8,
   "metadata": {
    "collapsed": true
   },
   "outputs": [],
   "source": [
    "def compute_cost(AL, Y,parameters=None,lambd=0.01,regularized=False):\n",
    "    \"\"\"\n",
    "    Implement the cost function defined by equation (7).\n",
    "\n",
    "    Arguments:\n",
    "    AL -- probability vector corresponding to your label predictions, shape (1, number of examples)\n",
    "    Y -- true \"label\" vector (for example: containing 0 if non-cat, 1 if cat), shape (1, number of examples)\n",
    "    parameters -- python dictionary containing parameters of the model\n",
    "\n",
    "    Returns:\n",
    "    cost --  value of the regularized loss function (formula (2))\n",
    "    \"\"\"\n",
    "    \n",
    "    m = Y.shape[1]\n",
    "    cross_entropy_cost = -(1/m)* np.sum(np.multiply(np.log(AL),Y) + np.multiply((1-Y),np.log(1-AL)))\n",
    "    \n",
    "    #print(AL.shape)\n",
    "    \n",
    "    if regularized == True:\n",
    "        temp = 0\n",
    "        loop_len = len(parameters)//2\n",
    "        for i in range(1,loop_len+1):\n",
    "            temp += np.sum(np.square(parameters['W' + str(i)]))\n",
    "        L2_regularization_cost = (1/m) * (lambd/2) * temp\n",
    "        #print(\"L2_regularization_cost {}\".format(L2_regularization_cost))\n",
    "        #L2_regularization_cost = (1/m) * (lambd/2) * (np.sum(np.square(parameters[\"W1\"])) + np.sum(np.square(parameters[\"W2\"])) + np.sum(np.square(parameters[\"W3\"])))\n",
    "        #print(L2_regularization_cost)\n",
    "        cost = cross_entropy_cost + L2_regularization_cost\n",
    "    else:\n",
    "        cost = cross_entropy_cost\n",
    "        \n",
    "    #print(\"Cross Entropy cost {}\".format(cross_entropy_cost))\n",
    "    \n",
    "    \n",
    "    cost = np.squeeze(cost)      # To make sure your cost's shape is what we expect (e.g. this turns [[17]] into 17).\n",
    "    assert(cost.shape == ())\n",
    "    \n",
    "    return cost"
   ]
  },
  {
   "cell_type": "code",
   "execution_count": 9,
   "metadata": {},
   "outputs": [
    {
     "name": "stdout",
     "output_type": "stream",
     "text": [
      "0.670889593999\n",
      "kljdf\n"
     ]
    }
   ],
   "source": [
    "cost = compute_cost(AL, Y.T,parameters,0.01,False)\n",
    "print(cost)\n",
    "kldjf = 4\n",
    "if kldjf is None:\n",
    "    print(\"he\")\n",
    "elif kldjf is not(None):\n",
    "    print(\"kljdf\")"
   ]
  },
  {
   "cell_type": "markdown",
   "metadata": {},
   "source": [
    "## Back Propogation Alogorithm starts here\n",
    "\n",
    "."
   ]
  },
  {
   "cell_type": "code",
   "execution_count": 149,
   "metadata": {
    "collapsed": true
   },
   "outputs": [],
   "source": [
    "def linear_backward(dZ, cache,D,lambd,keep_prob,val):\n",
    "    \"\"\"\n",
    "    Implement the linear portion of backward propagation for a single layer (layer l)\n",
    "\n",
    "    Arguments:\n",
    "    dZ -- Gradient of the cost with respect to the linear output (of current layer l)\n",
    "    cache -- tuple of values (A_prev, W, b) coming from the forward propagation in the current layer\n",
    "\n",
    "    Returns:\n",
    "    dA_prev -- Gradient of the cost with respect to the activation (of the previous layer l-1), same shape as A_prev\n",
    "    dW -- Gradient of the cost with respect to W (current layer l), same shape as W\n",
    "    db -- Gradient of the cost with respect to b (current layer l), same shape as b\n",
    "    \"\"\"\n",
    "    #linear_cache, activation_cache,D = cache\n",
    "\n",
    "    linear_cache, activation_cache, dummy= cache\n",
    "    A_prev, W, b = linear_cache\n",
    "    m = A_prev.shape[1]\n",
    "    #print(\"W shape: {}\".format(W.shape))\n",
    "    #print(\"DZ shape: {}\".format(dZ.shape))\n",
    "    #print(dZ.shape)\n",
    "    dA_prev = np.dot(W.T, dZ)\n",
    "    #print(\"DA_prev shape: {}\".format(dA_prev.shape))\n",
    "    #print(\"D shape: {}\".format(D.shape))\n",
    "    if val ==0:\n",
    "        dZ_prev = None\n",
    "    else:\n",
    "        dA_prev = np.multiply(dA_prev,D )\n",
    "        dA_prev = dA_prev/keep_prob\n",
    "        dZ_prev = np.multiply(dA_prev, np.int64(A_prev > 0))\n",
    "    \n",
    "    dW = (1./m) * np.dot(dZ,A_prev.T) + ((lambd/m) * W)\n",
    "    db = (1./m) * np.sum(dZ,axis=1)\n",
    "    assert (dA_prev.shape == A_prev.shape)\n",
    "    assert (dW.shape == W.shape)\n",
    "    assert (db.shape == b.shape)\n",
    "    return dZ_prev, dA_prev, dW, db"
   ]
  },
  {
   "cell_type": "code",
   "execution_count": 150,
   "metadata": {
    "collapsed": true
   },
   "outputs": [],
   "source": [
    "def L_model_backward(AL, Y, caches, lambd=0,keep_prob=1):\n",
    "    \"\"\"\n",
    "    Implement the backward propagation for the [LINEAR->RELU] * (L-1) -> LINEAR -> SIGMOID group\n",
    "    \n",
    "    Arguments:\n",
    "    AL -- probability vector, output of the forward propagation (L_model_forward())\n",
    "    Y -- true \"label\" vector (containing 0 if non-cat, 1 if cat)\n",
    "    caches -- list of caches containing:\n",
    "                every cache of linear_activation_forward() with \"relu\" (it's caches[l], for l in range(L-1) i.e l = 0...L-2)\n",
    "                the cache of linear_activation_forward() with \"sigmoid\" (it's caches[L-1])\n",
    "    \n",
    "    Returns:\n",
    "    grads -- A dictionary with the gradients\n",
    "             grads[\"dA\" + str(l)] = ... \n",
    "             grads[\"dW\" + str(l)] = ...\n",
    "             grads[\"db\" + str(l)] = ... \n",
    "    \"\"\"\n",
    "    grads = {}\n",
    "    L = len(caches) # the number of layers\n",
    "    #print(L)\n",
    "    m = AL.shape[1]\n",
    "    Y = Y.reshape(AL.shape) # after this line, Y is the same shape as AL\n",
    "    \n",
    "    # Initializing the backpropagation and dZL for last layer \n",
    "    dAL = - (np.divide(Y, AL) - np.divide(1 - Y, 1 - AL))\n",
    "    #print(\"AL shape {}\".format(AL.shape))\n",
    "    linear_cache, activation_cache = caches[L-1]\n",
    "    A_prev2, W3, b3 = linear_cache\n",
    "    #print(\"A_prev2 {}\".format(A_prev2.shape))\n",
    "    \n",
    "    dZ_prev3 = AL - Y\n",
    "    #print(\"dZ_prev {}\".format(dZ_prev3.shape))\n",
    "    grads[\"dW\" + str(L)] = 1./m * np.dot(dZ_prev3, A_prev2.T)+((lambd/m) * W3)\n",
    "    grads[\"db\" + str(L)] = 1./m * np.sum(dZ_prev3, axis=1)\n",
    "    #print(\"DWL shape: {}\".format( grads[\"dW\" + str(L)].shape))\n",
    "    #print(\"DbL Shape: {}\".format(grads[\"db\" + str(L)].shape))\n",
    "    dA_prev2 = np.dot(W3.T, dZ_prev3)\n",
    "    \n",
    "    \n",
    "    #print(\"dA_prev2 shape: {}\".format(dA_prev2.shape))\n",
    "    linear_cache, activation_cache,D = caches[L-2]\n",
    "    #A_prev, W, b = linear_cache\n",
    "    #print(\"D2 shape {}\".format(D.shape))\n",
    "    #print(dA_prev.shape)\n",
    "    dA_prev2 = np.multiply(D,dA_prev2)\n",
    "    dA_prev2 = dA_prev2/keep_prob\n",
    "    #print(\"After dA_prev2 shape: {}\".format(dA_prev2.shape))\n",
    "    dZ = np.multiply(dA_prev2, np.int64(A_prev2 > 0))\n",
    "    #print(\"DZ shape last: {}\".format(dZ.shape))\n",
    "    x, y,D_prev = caches[L-3]\n",
    "    \n",
    "    #print(dZ_prev.shape)\n",
    "    #grads[\"dA\" + str(L)] = dAL\n",
    "    \n",
    "    # Loop from l=L-2 to l=0\n",
    "    for l in reversed(range(L)):\n",
    "        # lth layer: (RELU -> LINEAR) gradients.\n",
    "        # Inputs: \"grads[\"dA\" + str(l + 1)], current_cache\". Outputs: \"grads[\"dA\" + str(l)] , grads[\"dW\" + str(l + 1)] , grads[\"db\" + str(l + 1)] \n",
    "        current_cache = caches[l-1]\n",
    "        #print(l)\n",
    "        D = D_prev\n",
    "        #print(l-1)\n",
    "        val = l - 1\n",
    "        dZ_prev, dA_prev_temp, dW_temp, db_temp = linear_backward(dZ, current_cache, D,lambd,keep_prob, val)\n",
    "        if val ==0:\n",
    "            pass\n",
    "        else:\n",
    "            x, y, D_prev = caches[l-2]\n",
    "        dZ = dZ_prev\n",
    "        #grads[\"dA\" + str(l)] = dA_prev_temp\n",
    "        grads[\"dW\" + str(l)] = dW_temp\n",
    "        grads[\"db\" + str(l)] = db_temp\n",
    "        if val ==0:\n",
    "            break\n",
    "    \n",
    "    return grads"
   ]
  },
  {
   "cell_type": "markdown",
   "metadata": {},
   "source": [
    "# Updating Hyper Parameters Based on Gradient Descent\n",
    "\n",
    "."
   ]
  },
  {
   "cell_type": "code",
   "execution_count": 12,
   "metadata": {
    "collapsed": true
   },
   "outputs": [],
   "source": [
    "def update_parameters(parameters, grads, learning_rate):\n",
    "    \"\"\"\n",
    "    Update parameters using gradient descent\n",
    "    \n",
    "    Arguments:\n",
    "    parameters -- python dictionary containing your parameters \n",
    "    grads -- python dictionary containing your gradients, output of L_model_backward\n",
    "    \n",
    "    Returns:\n",
    "    parameters -- python dictionary containing your updated parameters \n",
    "                  parameters[\"W\" + str(l)] = ... \n",
    "                  parameters[\"b\" + str(l)] = ...\n",
    "    \"\"\"\n",
    "    \n",
    "    L = len(parameters) // 2 # number of layers in the neural network\n",
    "\n",
    "    # Update rule for each parameter. Use a for loop.\n",
    "    ### START CODE HERE ### (≈ 3 lines of code)\n",
    "    for l in range(L):\n",
    "        parameters[\"W\" + str(l+1)] = parameters[\"W\" + str(l+1)] - learning_rate * grads[\"dW\" + str(l + 1)]\n",
    "        parameters[\"b\" + str(l+1)] = parameters[\"b\" + str(l+1)] - learning_rate * grads[\"db\" + str(l + 1)]\n",
    "    ### END CODE HERE ###\n",
    "    return parameters\n"
   ]
  },
  {
   "cell_type": "markdown",
   "metadata": {},
   "source": [
    "# Model controlling Function\n",
    "\n",
    "."
   ]
  },
  {
   "cell_type": "code",
   "execution_count": 257,
   "metadata": {
    "collapsed": true
   },
   "outputs": [],
   "source": [
    "def model(X, Y, learning_rate = 0.3, num_iterations = 10000, print_cost = True, lambd = 0, keep_prob = 1):\n",
    "    \n",
    "    \"\"\"\n",
    "    Implements a three-layer neural network: LINEAR->RELU->LINEAR->RELU->LINEAR->SIGMOID.\n",
    "    \n",
    "    Arguments:\n",
    "    X -- input data, of shape (input size, number of examples)\n",
    "    Y -- true \"label\" vector (1 for blue dot / 0 for red dot), of shape (output size, number of examples)\n",
    "    learning_rate -- learning rate of the optimization\n",
    "    num_iterations -- number of iterations of the optimization loop\n",
    "    print_cost -- If True, print the cost every 10000 iterations\n",
    "    lambd -- regularization hyperparameter, scalar\n",
    "    keep_prob - probability of keeping a neuron active during drop-out, scalar.\n",
    "    \n",
    "    Returns:\n",
    "    parameters -- parameters learned by the model. They can then be used to predict.\n",
    "    \"\"\"\n",
    "        \n",
    "    grads = {}\n",
    "    costs = []                            # to keep track of the cost\n",
    "    m = X.shape[1]                        # number of examples\n",
    "    layers_dims = [X.shape[0],5,3, 1]\n",
    "    #print(layers_dims)\n",
    "    # Initialize parameters dictionary.\n",
    "    parameters = initialize_parameters_deep(layers_dims,\"random\")\n",
    "    #print(parameters.keys())\n",
    "\n",
    "    # Loop (gradient descent)\n",
    "    for i in range(0, num_iterations):\n",
    "        AL, cache = L_model_forward(X, parameters,keep_prob)\n",
    "        cost = compute_cost(AL, Y.T,parameters,lambd,True)\n",
    "        grads = L_model_backward(AL, Y, cache, lambd,keep_prob)\n",
    "        #print(grads.keys())\n",
    "        \n",
    "        parameters = update_parameters(parameters, grads, learning_rate)\n",
    "        \n",
    "        if print_cost and i % 1000 == 0:\n",
    "            print(\"Cost after iteration {}: {}\".format(i, cost))\n",
    "        if print_cost and i % 1000 == 0:\n",
    "            costs.append(cost)\n",
    "    \n",
    "    # plot the cost\n",
    "    plt.plot(costs)\n",
    "    plt.ylabel('cost')\n",
    "    plt.xlabel('iterations (x1,000)')\n",
    "    plt.title(\"Learning rate =\" + str(learning_rate))\n",
    "    plt.show()\n",
    "    \n",
    "    return parameters,grads"
   ]
  },
  {
   "cell_type": "code",
   "execution_count": 258,
   "metadata": {},
   "outputs": [
    {
     "name": "stdout",
     "output_type": "stream",
     "text": [
      "Cost after iteration 0: 0.6931474871638728\n",
      "Cost after iteration 1000: 0.0060417616322100956\n",
      "Cost after iteration 2000: 0.002361073439584375\n",
      "Cost after iteration 3000: 0.0014527429473650754\n",
      "Cost after iteration 4000: 0.001043993465687414\n",
      "Cost after iteration 5000: 0.0008131215474465479\n",
      "Cost after iteration 6000: 0.0006649235626607551\n",
      "Cost after iteration 7000: 0.0005619567733894033\n",
      "Cost after iteration 8000: 0.00048643311474383226\n",
      "Cost after iteration 9000: 0.0004286234642401343\n"
     ]
    },
    {
     "data": {
      "image/png": "[encoded data removed]",
      "text/plain": [
       "<matplotlib.figure.Figure at 0x2692dad15c0>"
      ]
     },
     "metadata": {},
     "output_type": "display_data"
    },
    {
     "name": "stdout",
     "output_type": "stream",
     "text": [
      "On the train set:\n",
      "1.0\n",
      "On the test set:\n",
      "1.0\n"
     ]
    }
   ],
   "source": [
    "keep_prob=0.2\n",
    "learning_rate = 0.5\n",
    "parameters,gadual = model(X, Y, keep_prob=1)\n",
    "print (\"On the train set:\")\n",
    "AL, xx = L_model_forward(X, parameters,1)\n",
    "predicted = np.matrix(np.zeros(AL.shape[1]))\n",
    "predicted[AL>0.5] = 1\n",
    "Accuracy = accuracy_score(y_true=Y,y_pred = predicted.T,normalize=True)\n",
    "print(Accuracy)\n",
    "print (\"On the test set:\")\n",
    "AT, xx = L_model_forward(X_test.T, parameters,1)\n",
    "Tpredicted = np.matrix(np.zeros(AT.shape[1]))\n",
    "Tpredicted[AT>0.5] = 1\n",
    "TAccuracy = accuracy_score(y_true=y_test,y_pred = Tpredicted.T,normalize=True)\n",
    "print(TAccuracy)"
   ]
  },
  {
   "cell_type": "code",
   "execution_count": 259,
   "metadata": {},
   "outputs": [
    {
     "data": {
      "text/plain": [
       "{'dW1': matrix([[ -2.80036004e-05,  -1.68734148e-05,  -2.93246329e-05,\n",
       "            1.01422766e-05],\n",
       "         [ -8.70438297e-06,  -5.24477790e-06,  -9.11500062e-06,\n",
       "            3.15253247e-06],\n",
       "         [ -6.90471479e-06,  -2.40297759e-06,   7.17447158e-06,\n",
       "            4.95887063e-07],\n",
       "         [ -1.41727791e-05,  -8.53972982e-06,  -1.48413611e-05,\n",
       "            5.13306303e-06],\n",
       "         [  4.37921393e-05,   2.04547015e-05,  -3.45916158e-06,\n",
       "           -8.95348919e-06]]),\n",
       " 'dW2': matrix([[  0.00000000e+00,   0.00000000e+00,   1.27675658e-07,\n",
       "            0.00000000e+00,   0.00000000e+00],\n",
       "         [  0.00000000e+00,   0.00000000e+00,   0.00000000e+00,\n",
       "            0.00000000e+00,   0.00000000e+00],\n",
       "         [ -4.85452213e-05,  -1.51045998e-05,   1.13064492e-05,\n",
       "           -2.46791991e-05,   4.10050357e-05]]),\n",
       " 'dW3': matrix([[ -9.32988129e-10,   0.00000000e+00,   7.15851826e-05]]),\n",
       " 'db1': matrix([[  3.27385524e-05],\n",
       "         [  1.01761521e-05],\n",
       "         [ -6.48038158e-06],\n",
       "         [  1.65691649e-05],\n",
       "         [ -1.79381595e-06]]),\n",
       " 'db2': matrix([[  5.75597762e-08],\n",
       "         [  0.00000000e+00],\n",
       "         [  1.57644856e-05]]),\n",
       " 'db3': matrix([[-0.00034517]])}"
      ]
     },
     "execution_count": 259,
     "metadata": {},
     "output_type": "execute_result"
    }
   ],
   "source": [
    "gadual"
   ]
  },
  {
   "cell_type": "markdown",
   "metadata": {},
   "source": [
    "# Gradient Descent Checking the back propogation\n",
    "\n",
    "."
   ]
  },
  {
   "cell_type": "code",
   "execution_count": 277,
   "metadata": {
    "collapsed": true
   },
   "outputs": [],
   "source": [
    "def dictionary_to_vector(parameters):\n",
    "    l = []\n",
    "    x = np.array([])\n",
    "    for key in (parameters):\n",
    "        temp = np.array(parameters[key].flatten())\n",
    "        l.append(parameters[key].shape)\n",
    "        x = np.append(x,temp)\n",
    "        parameters_values = x.reshape(x.shape[0],1)\n",
    "    return parameters_values, l\n",
    "    \n",
    "def grad_to_vector(grads):\n",
    "    l = []\n",
    "    i = 0\n",
    "    k = len(grads) // 2\n",
    "    k = 3\n",
    "    y = np.array([])\n",
    "    for key in grads:\n",
    "        i +=1\n",
    "        temp = np.array(grads[\"dW\" + str(i)].flatten())\n",
    "        y = np.append(y,temp)\n",
    "        temp1 = np.array(grads[\"db\" + str(i)].flatten())\n",
    "        y = np.append(y,temp1)\n",
    "        if i ==k:\n",
    "            break\n",
    "    gradapprox = y.reshape(y.shape[0],1)\n",
    "\n",
    "    return gradapprox\n",
    "\n",
    "def vector_to_dictionary(xx,l):\n",
    "    params = {}\n",
    "    strt = 0\n",
    "    for i in range(0,len(l),2):\n",
    "        wstrt = strt\n",
    "        u = l[i]\n",
    "        wend = strt + u[0] * u[1]\n",
    "        v = l[i+1]\n",
    "        bstrt = wend\n",
    "        bend = wend + v[0] * v[1]\n",
    "        params[\"W\" + str(i//2+1)] = np.matrix(np.reshape(xx[wstrt:wend],l[i]))\n",
    "        #print(params[\"W\" + str(i//2+1)].shape)\n",
    "        params[\"b\" + str(i//2+1)] = np.matrix(np.reshape(xx[bstrt:bend],l[i+1])) \n",
    "        #print(params[\"b\" + str(i//2+1)].shape)\n",
    "        strt = bend\n",
    "    return params"
   ]
  },
  {
   "cell_type": "code",
   "execution_count": 282,
   "metadata": {
    "collapsed": true
   },
   "outputs": [],
   "source": [
    "def gradient_check_n(parameters, gradients, X, Y, epsilon = 1e-7):\n",
    "    \"\"\"\n",
    "    Checks if backward_propagation_n computes correctly the gradient of the cost output by forward_propagation_n\n",
    "    \n",
    "    Arguments:\n",
    "    parameters -- python dictionary containing your parameters \"W1\", \"b1\", \"W2\", \"b2\", \"W3\", \"b3\":\n",
    "    grad -- output of backward_propagation_n, contains gradients of the cost with respect to the parameters. \n",
    "    x -- input datapoint, of shape (input size, 1)\n",
    "    y -- true \"label\"\n",
    "    epsilon -- tiny shift to the input to compute approximated gradient with formula(1)\n",
    "    \n",
    "    Returns:\n",
    "    difference -- difference (2) between the approximated gradient and the backward propagation gradient\n",
    "    \"\"\"\n",
    "    \n",
    "    # Set-up variables\n",
    "    \n",
    "    parameters_values,le = dictionary_to_vector(parameters)\n",
    "    grad = grad_to_vector(gradients)\n",
    "    #grad = gradients_to_vector(gradients)\n",
    "    num_parameters = parameters_values.shape[0]\n",
    "    J_plus = np.zeros((num_parameters, 1))\n",
    "    J_minus = np.zeros((num_parameters, 1))\n",
    "    gradapprox = np.zeros((num_parameters, 1))\n",
    "    #print(le)\n",
    "    \n",
    "    # Compute gradapprox\n",
    "    for i in range(num_parameters):\n",
    "        \n",
    "        # Compute J_plus[i]. Inputs: \"parameters_values, epsilon\". Output = \"J_plus[i]\".\n",
    "        # \"_\" is used because the function you have to outputs two parameters but we only care about the first one\n",
    "        thetaplus = np.copy(parameters_values)                                     \n",
    "        thetaplus[i][0] += epsilon                                \n",
    "        J_plus[i], _,_,_ = forward_propagation_n(X, Y, vector_to_dictionary(thetaplus,le)) \n",
    "        #J_plus[i] = compute_cost(AL,Y)\n",
    "        \n",
    "        # Compute J_minus[i]. Inputs: \"parameters_values, epsilon\". Output = \"J_minus[i]\".\n",
    "        thetaminus = np.copy(parameters_values)                                      \n",
    "        thetaminus[i][0] -= epsilon\n",
    "        J_minus[i], _,_,_ = forward_propagation_n(X, Y, vector_to_dictionary(thetaminus,le))\n",
    "        #J_minus[i]= compute_cost(ALm, Y)                           \n",
    "        \n",
    "        # Compute gradapprox[i]\n",
    "        gradapprox[i] = (J_plus[i] - J_minus[i]) / (2 * epsilon)  \n",
    "    \n",
    "    # Compare gradapprox to backward propagation gradients by computing difference.\n",
    "    numerator = np.linalg.norm(grad-gradapprox)      \n",
    "    denominator = np.linalg.norm(grad) + np.linalg.norm(gradapprox)     \n",
    "    #print(denominator)\n",
    "    difference = numerator/denominator                                           \n",
    "\n",
    "    if difference > 2e-7:\n",
    "        print (\"\\033[93m\" + \"There is a mistake in the backward propagation! difference = \" + str(difference) + \"\\033[0m\")\n",
    "    else:\n",
    "        print (\"\\033[92m\" + \"Your backward propagation works perfectly fine! difference = \" + str(difference) + \"\\033[0m\")\n",
    "    \n",
    "    return difference"
   ]
  },
  {
   "cell_type": "code",
   "execution_count": 350,
   "metadata": {
    "collapsed": true
   },
   "outputs": [],
   "source": [
    "def gradient_check(parameters, gradients, X, Y, epsilon = 1e-7):\n",
    "    num_parameters = 47\n",
    "    J_plus = np.zeros((num_parameters, 1))\n",
    "    J_minus = np.zeros((num_parameters, 1))\n",
    "    gradapprox = np.zeros((num_parameters, 1))\n",
    "    for key in parameters:\n",
    "        thetaplus = parameters\n",
    "        thetaminus = parameters\n",
    "        i,j = parameters[key].shape\n",
    "        for k in range(i):\n",
    "            for l in range(j):\n",
    "                #print(thetaminus[key])\n",
    "                thetaminus[key][k,l] = thetaminus[key][k,l] + epsilon\n",
    "                #print(thetaminus[key])\n",
    "                thetaminus[key][k,l] = thetaminus[key][k,l] - epsilon\n",
    "                J_plus[i], _,_,_ = forward_propagation_n(X, Y, thetaplus) \n",
    "                J_minus[i], _,_,_ = forward_propagation_n(X, Y,thetaminus)\n",
    "                gradapprox[i] = (J_plus[i] - J_minus[i]) / (2 * epsilon)  \n",
    "    grad = grad_to_vector(gradients)\n",
    "    #print(len(grad))\n",
    "    numerator = np.linalg.norm(grad-gradapprox)  \n",
    "    #print(numerator)\n",
    "    denominator = np.linalg.norm(grad) + np.linalg.norm(gradapprox)  \n",
    "    difference = numerator/denominator                                           \n",
    "\n",
    "    if difference > 2e-7:\n",
    "        print (\"\\033[93m\" + \"There is a mistake in the backward propagation! difference = \" + str(difference) + \"\\033[0m\")\n",
    "    else:\n",
    "        print (\"\\033[92m\" + \"Your backward propagation works perfectly fine! difference = \" + str(difference) + \"\\033[0m\")\n",
    "    \n",
    "    return difference"
   ]
  },
  {
   "cell_type": "code",
   "execution_count": 351,
   "metadata": {},
   "outputs": [
    {
     "name": "stdout",
     "output_type": "stream",
     "text": [
      "\u001b[93mThere is a mistake in the backward propagation! difference = 1.0\u001b[0m\n"
     ]
    },
    {
     "data": {
      "text/plain": [
       "1.0"
      ]
     },
     "execution_count": 351,
     "metadata": {},
     "output_type": "execute_result"
    }
   ],
   "source": [
    "gradient_check(parameters, gradients, X, Y)"
   ]
  },
  {
   "cell_type": "code",
   "execution_count": 265,
   "metadata": {
    "collapsed": true
   },
   "outputs": [],
   "source": [
    "def forward_propagation_n(X, Y, parameters):\n",
    "    \"\"\"\n",
    "    Implements the forward propagation (and computes the cost) presented in Figure 3.\n",
    "    \n",
    "    Arguments:\n",
    "    X -- training set for m examples\n",
    "    Y -- labels for m examples \n",
    "    parameters -- python dictionary containing your parameters \"W1\", \"b1\", \"W2\", \"b2\", \"W3\", \"b3\":\n",
    "                    W1 -- weight matrix of shape (5, 4)\n",
    "                    b1 -- bias vector of shape (5, 1)\n",
    "                    W2 -- weight matrix of shape (3, 5)\n",
    "                    b2 -- bias vector of shape (3, 1)\n",
    "                    W3 -- weight matrix of shape (1, 3)\n",
    "                    b3 -- bias vector of shape (1, 1)\n",
    "    \n",
    "    Returns:\n",
    "    cost -- the cost function (logistic cost for one example)\n",
    "    \"\"\"\n",
    "    #print(parameters[\"W2\"].shape)\n",
    "    # retrieve parameters\n",
    "    m = X.shape[1]\n",
    "    W1 = parameters[\"W1\"]\n",
    "    b1 = parameters[\"b1\"]\n",
    "    W2 = parameters[\"W2\"]\n",
    "    #print(W2.shape)\n",
    "    b2 = parameters[\"b2\"]\n",
    "    W3 = parameters[\"W3\"]\n",
    "    #print(W3.shape)\n",
    "    b3 = parameters[\"b3\"]\n",
    "\n",
    "    # LINEAR -> RELU -> LINEAR -> RELU -> LINEAR -> SIGMOID\n",
    "    Z1 = np.dot(W1, X) + b1\n",
    "    A1,_ = relu(Z1)\n",
    "    #print(W2.shape)\n",
    "    #print(A1)\n",
    "    Z2 = np.dot(W2, A1) + b2\n",
    "    A2,_ = relu(Z2)\n",
    "    Z3 = np.dot(W3, A2) + b3\n",
    "    A3,_ = sigmoid(Z3)\n",
    "\n",
    "    # Cost\n",
    "    logprobs = np.multiply(-np.log(A3),Y) + np.multiply(-np.log(1 - A3), 1 - Y)\n",
    "    cost = 1./m * np.sum(logprobs)\n",
    "    \n",
    "    cache = (Z1, A1, W1, b1, Z2, A2, W2, b2, Z3, A3, W3, b3)\n",
    "    cache1 = ( W1, b1,W2, b2, W3, b3)\n",
    "    \n",
    "    cac = [((X,W1,b1),(0),(0)),((A1,W2,b2),(0),(0)),((A2,W3,b3),(0))]\n",
    "    \n",
    "    return cost, cache, cache1, cac\n",
    "    #return A3, cac"
   ]
  },
  {
   "cell_type": "code",
   "execution_count": 266,
   "metadata": {
    "collapsed": true
   },
   "outputs": [],
   "source": [
    "def backward_propagation_n(X, Y, cache):\n",
    "    \"\"\"\n",
    "    Implement the backward propagation presented in figure 2.\n",
    "    \n",
    "    Arguments:\n",
    "    X -- input datapoint, of shape (input size, 1)\n",
    "    Y -- true \"label\"\n",
    "    cache -- cache output from forward_propagation_n()\n",
    "    \n",
    "    Returns:\n",
    "    gradients -- A dictionary with the gradients of the cost with respect to each parameter, activation and pre-activation variables.\n",
    "    \"\"\"\n",
    "    \n",
    "    m = X.shape[1]\n",
    "    (Z1, A1, W1, b1, Z2, A2, W2, b2, Z3, A3, W3, b3) = cache\n",
    "    \n",
    "    dZ3 = A3 - Y.T\n",
    "    print(Y.shape)\n",
    "    dW3 = 1./m * np.dot(dZ3, A2.T)\n",
    "    db3 = 1./m * np.sum(dZ3, axis=1)\n",
    "    \n",
    "    dA2 = np.dot(W3.T, dZ3)\n",
    "    dZ2 = np.multiply(dA2, np.int64(A2 > 0))\n",
    "    dW2 = 1./m * np.dot(dZ2, A1.T)\n",
    "    db2 = 1./m * np.sum(dZ2, axis=1)\n",
    "    \n",
    "    dA1 = np.dot(W2.T, dZ2)\n",
    "    dZ1 = np.multiply(dA1, np.int64(A1 > 0))\n",
    "    dW1 = 1./m * np.dot(dZ1, X.T)\n",
    "    db1 = 1./m * np.sum(dZ1, axis=1)\n",
    "    \n",
    "    gradients = {\"dZ3\": dZ3, \"dW3\": dW3, \"db3\": db3,\n",
    "                 \"dA2\": dA2, \"dZ2\": dZ2, \"dW2\": dW2, \"db2\": db2,\n",
    "                 \"dA1\": dA1, \"dZ1\": dZ1, \"dW1\": dW1, \"db1\": db1}\n",
    "    gradd = { \"dW3\": dW3, \"db3\": db3,\n",
    "                 \"dW2\": dW2, \"db2\": db2,\n",
    "                  \"dW1\": dW1, \"db1\": db1}\n",
    "    \n",
    "    return gradd"
   ]
  },
  {
   "cell_type": "code",
   "execution_count": 267,
   "metadata": {},
   "outputs": [
    {
     "name": "stdout",
     "output_type": "stream",
     "text": [
      "(1234, 1)\n"
     ]
    }
   ],
   "source": [
    "cost, cache,cache1, cac = forward_propagation_n(X, Y, parameters)\n",
    "gradients = backward_propagation_n(X, Y, cache)\n",
    "\n",
    "#AL,cac = forward_propagation_n(X,Y, parameters)\n",
    "#gradx = L_model_backward(AL, Y, cac)\n",
    "#difference = gradient_check_n(parameters, gradients, X, Y)\n",
    "#print(gradx)\n",
    "mine,_ = grad_to_vector(gadual)\n",
    "cour,_ = grad_to_vector(gradients)\n",
    "#print(gradients)"
   ]
  },
  {
   "cell_type": "code",
   "execution_count": 271,
   "metadata": {},
   "outputs": [
    {
     "data": {
      "text/plain": [
       "{'dW1': matrix([[ -2.80036004e-05,  -1.68734148e-05,  -2.93246329e-05,\n",
       "            1.01422766e-05],\n",
       "         [ -8.70438297e-06,  -5.24477790e-06,  -9.11500062e-06,\n",
       "            3.15253247e-06],\n",
       "         [ -6.90471479e-06,  -2.40297759e-06,   7.17447158e-06,\n",
       "            4.95887063e-07],\n",
       "         [ -1.41727791e-05,  -8.53972982e-06,  -1.48413611e-05,\n",
       "            5.13306303e-06],\n",
       "         [  4.37921393e-05,   2.04547015e-05,  -3.45916158e-06,\n",
       "           -8.95348919e-06]]),\n",
       " 'dW2': matrix([[  0.00000000e+00,   0.00000000e+00,   1.27675658e-07,\n",
       "            0.00000000e+00,   0.00000000e+00],\n",
       "         [  0.00000000e+00,   0.00000000e+00,   0.00000000e+00,\n",
       "            0.00000000e+00,   0.00000000e+00],\n",
       "         [ -4.85452213e-05,  -1.51045998e-05,   1.13064492e-05,\n",
       "           -2.46791991e-05,   4.10050357e-05]]),\n",
       " 'dW3': matrix([[ -9.32988129e-10,   0.00000000e+00,   7.15851826e-05]]),\n",
       " 'db1': matrix([[  3.27385524e-05],\n",
       "         [  1.01761521e-05],\n",
       "         [ -6.48038158e-06],\n",
       "         [  1.65691649e-05],\n",
       "         [ -1.79381595e-06]]),\n",
       " 'db2': matrix([[  5.75597762e-08],\n",
       "         [  0.00000000e+00],\n",
       "         [  1.57644856e-05]]),\n",
       " 'db3': matrix([[-0.00034517]])}"
      ]
     },
     "execution_count": 271,
     "metadata": {},
     "output_type": "execute_result"
    }
   ],
   "source": [
    "gadual"
   ]
  },
  {
   "cell_type": "code",
   "execution_count": 289,
   "metadata": {},
   "outputs": [
    {
     "data": {
      "text/plain": [
       "dict_keys(['dW3', 'db3', 'dW2', 'db2', 'dW1', 'db1'])"
      ]
     },
     "execution_count": 289,
     "metadata": {},
     "output_type": "execute_result"
    }
   ],
   "source": [
    "gradients[\"dW1\"][0,0]\n",
    "gradients.keys()"
   ]
  },
  {
   "cell_type": "code",
   "execution_count": 294,
   "metadata": {
    "collapsed": true
   },
   "outputs": [],
   "source": [
    "lex = []\n",
    "for key in parameters:\n",
    "    lex.append(parameters[key].shape)\n",
    "#print(parameters[key][4,3])"
   ]
  },
  {
   "cell_type": "code",
   "execution_count": 296,
   "metadata": {},
   "outputs": [
    {
     "data": {
      "text/plain": [
       "(5, 1)"
      ]
     },
     "execution_count": 296,
     "metadata": {},
     "output_type": "execute_result"
    }
   ],
   "source": [
    "lex[1]"
   ]
  },
  {
   "cell_type": "code",
   "execution_count": 297,
   "metadata": {
    "collapsed": true
   },
   "outputs": [],
   "source": [
    "i,j = lex[1]"
   ]
  },
  {
   "cell_type": "code",
   "execution_count": 313,
   "metadata": {},
   "outputs": [
    {
     "name": "stdout",
     "output_type": "stream",
     "text": [
      "1.29838516018\n",
      "0.771859730377\n",
      "1.36583310687\n",
      "-0.333088894505\n",
      "0.403791155778\n",
      "0.241178163916\n",
      "0.423636501374\n",
      "-0.100894627076\n",
      "0.268780677276\n",
      "-0.032420041595\n",
      "-0.312671360747\n",
      "-0.0487156808275\n",
      "0.65020740019\n",
      "0.402019278381\n",
      "0.693222799141\n",
      "-0.156889663565\n",
      "-1.27665880749\n",
      "-0.0674376791883\n",
      "0.74285497554\n",
      "0.244539764566\n",
      "-0.244420107901\n",
      "-0.0777385307676\n",
      "0.145219415267\n",
      "-0.132600616501\n",
      "-0.154788705772\n",
      "-0.0120800455547\n",
      "-0.00213066063392\n",
      "0.00555714517598\n",
      "0.00221181812367\n",
      "-0.0102434844551\n",
      "-0.0071299332647\n",
      "0.00625202380442\n",
      "-0.00160537453903\n",
      "-0.0076883989816\n",
      "-0.0023005763333\n",
      "2.07674280975\n",
      "0.645515739986\n",
      "-0.441088036009\n",
      "1.05105120911\n",
      "-1.5063586449\n",
      "-0.0119490085409\n",
      "-4.53938652322e-05\n",
      "-0.224797087849\n",
      "-0.0232969677047\n",
      "-0.00923785553525\n",
      "-2.88892885973\n",
      "7.17863779293\n"
     ]
    }
   ],
   "source": [
    "for key in parameters:\n",
    "    #print(key)\n",
    "    i,j = parameters[key].shape\n",
    "    #print(lex[0])\n",
    "    #i = i -1 \n",
    "    #j = j-1\n",
    "    for k in range(i):\n",
    "        #print(k)\n",
    "        for l in range(j):\n",
    "            #print(l)\n",
    "            print(parameters[key][k,l] )\n",
    "    "
   ]
  },
  {
   "cell_type": "code",
   "execution_count": 307,
   "metadata": {},
   "outputs": [
    {
     "data": {
      "text/plain": [
       "{'W1': matrix([[ 1.29838516,  0.77185973,  1.36583311, -0.33308889],\n",
       "         [ 0.40379116,  0.24117816,  0.4236365 , -0.10089463],\n",
       "         [ 0.26878068, -0.03242004, -0.31267136, -0.04871568],\n",
       "         [ 0.6502074 ,  0.40201928,  0.6932228 , -0.15688966],\n",
       "         [-1.27665881, -0.06743768,  0.74285498,  0.24453976]]),\n",
       " 'W2': matrix([[ -1.20800456e-02,  -2.13066063e-03,   5.55714518e-03,\n",
       "            2.21181812e-03,  -1.02434845e-02],\n",
       "         [ -7.12993326e-03,   6.25202380e-03,  -1.60537454e-03,\n",
       "           -7.68839898e-03,  -2.30057633e-03],\n",
       "         [  2.07674281e+00,   6.45515740e-01,  -4.41088036e-01,\n",
       "            1.05105121e+00,  -1.50635864e+00]]),\n",
       " 'W3': matrix([[-0.02329697, -0.00923786, -2.88892886]]),\n",
       " 'b1': matrix([[-0.24442011],\n",
       "         [-0.07773853],\n",
       "         [ 0.14521942],\n",
       "         [-0.13260062],\n",
       "         [-0.15478871]]),\n",
       " 'b2': matrix([[ -1.19490085e-02],\n",
       "         [ -4.53938652e-05],\n",
       "         [ -2.24797088e-01]]),\n",
       " 'b3': matrix([[ 7.17863779]])}"
      ]
     },
     "execution_count": 307,
     "metadata": {},
     "output_type": "execute_result"
    }
   ],
   "source": [
    "parameters"
   ]
  },
  {
   "cell_type": "code",
   "execution_count": null,
   "metadata": {
    "collapsed": true
   },
   "outputs": [],
   "source": []
  }
 ],
 "metadata": {
  "kernelspec": {
   "display_name": "Python 3",
   "language": "python",
   "name": "python3"
  },
  "language_info": {
   "codemirror_mode": {
    "name": "ipython",
    "version": 3
   },
   "file_extension": ".py",
   "mimetype": "text/x-python",
   "name": "python",
   "nbconvert_exporter": "python",
   "pygments_lexer": "ipython3",
   "version": "3.6.3"
  }
 },
 "nbformat": 4,
 "nbformat_minor": 2
}
